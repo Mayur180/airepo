{
 "cells": [
  {
   "cell_type": "markdown",
   "id": "2aa1ac13",
   "metadata": {},
   "source": [
    "# Practical No. 1\n",
    "### Mayuresh Karnavat 13212"
   ]
  },
  {
   "cell_type": "code",
   "execution_count": 1,
   "id": "8f0785ad",
   "metadata": {},
   "outputs": [],
   "source": [
    "# DFS Function\n",
    "def dfs(visited, graph, node):\n",
    "\n",
    "    if node not in visited: #check if node is visited\n",
    "\n",
    "        print (node, end=\" \") #print current node \n",
    "        visited.add (node) # add current node to visited\n",
    "\n",
    "        for neighbour in graph[node]: #check connected nodes \n",
    "\n",
    "            dfs(visited, graph, neighbour) # call the function in recursion"
   ]
  },
  {
   "cell_type": "code",
   "execution_count": 2,
   "id": "afe9ea3e",
   "metadata": {},
   "outputs": [],
   "source": [
    "# BFS Function\n",
    "def bfs (visited, graph, node, queue):\n",
    "\n",
    "    visited.add (node) #add current node to visited\n",
    "    queue.append (node) #add visited node in queue\n",
    "\n",
    "    while queue:\n",
    "\n",
    "        s=queue.pop(0) #delete the element at front of queue\n",
    "        print (s,end=\" \") #display deleted queue\n",
    "\n",
    "        for neighbour in graph[s]: #search for connected nodes\n",
    "\n",
    "            if neighbour not in visited: #check if the node is already visited\n",
    "\n",
    "                visited.add(neighbour) #add node to visited\n",
    "                queue.append(neighbour) #add node to rear of queue \n",
    "\n"
   ]
  },
  {
   "cell_type": "code",
   "execution_count": 15,
   "id": "ec4dae15",
   "metadata": {},
   "outputs": [],
   "source": [
    "def main():\n",
    "\n",
    "    visited_DFS= set() #TO keep track of DFS visited nodes\n",
    "    visited_BFS= set () #To keep track of BFS visited nodes\n",
    "    queue= [] #For BFS\n",
    "    graph= dict()\n",
    "    n=int(input(\"Enter mumber of nodes:\")) #number of nodes\n",
    "\n",
    "    for i in range(1,n+1):\n",
    "        edges= int(input(\"Enter number of edges for node{}: \".format (i))) #input for number of connections\n",
    "        graph[i]= [] #adding node in graph\n",
    "       \n",
    "        for j in range (1, edges+1): #input for connected nodes\n",
    "            node= int (input(\"Enter edge {} for node {}: \".format (j,i))) \n",
    "            #adding connections\n",
    "            graph[i].append(node) \n",
    "    while (True): #Menu in loop      \n",
    "        print(\"\\nMenu\")\n",
    "        print(\"1. DFS\")\n",
    "        print(\"2. BFS\")\n",
    "        print(\"3. Quit\")\n",
    "        inp=int(input(\"Enter your choice: \"))\n",
    "        if (inp==1):\n",
    "            print(\"The following is DFS: \") \n",
    "            dfs (visited_DFS, graph, 1)\n",
    "            continue\n",
    "        elif (inp==2):\n",
    "            print(\"The following is BFS: \") \n",
    "            bfs(visited_BFS, graph, 1, queue)\n",
    "            continue\n",
    "        elif (inp==3):\n",
    "            break\n",
    "        else:\n",
    "            print(\"Invalid Input\")\n",
    "            continue"
   ]
  },
  {
   "cell_type": "code",
   "execution_count": 16,
   "id": "79812fdf",
   "metadata": {},
   "outputs": [
    {
     "name": "stdout",
     "output_type": "stream",
     "text": [
      "Enter mumber of nodes:5\n",
      "Enter number of edges for node1: 3\n",
      "Enter edge 1 for node 1: 2\n",
      "Enter edge 2 for node 1: 3\n",
      "Enter edge 3 for node 1: 5\n",
      "Enter number of edges for node2: 2\n",
      "Enter edge 1 for node 2: 1\n",
      "Enter edge 2 for node 2: 5\n",
      "Enter number of edges for node3: 3\n",
      "Enter edge 1 for node 3: 1\n",
      "Enter edge 2 for node 3: 4\n",
      "Enter edge 3 for node 3: 5\n",
      "Enter number of edges for node4: 2\n",
      "Enter edge 1 for node 4: 3\n",
      "Enter edge 2 for node 4: 5\n",
      "Enter number of edges for node5: 4\n",
      "Enter edge 1 for node 5: 1\n",
      "Enter edge 2 for node 5: 2\n",
      "Enter edge 3 for node 5: 3\n",
      "Enter edge 4 for node 5: 4\n",
      "\n",
      "Menu\n",
      "1. DFS\n",
      "2. BFS\n",
      "3. Quit\n",
      "Enter your choice: 1\n",
      "The following is DFS: \n",
      "1 2 5 3 4 \n",
      "Menu\n",
      "1. DFS\n",
      "2. BFS\n",
      "3. Quit\n",
      "Enter your choice: 2\n",
      "The following is BFS: \n",
      "1 2 3 5 4 \n",
      "Menu\n",
      "1. DFS\n",
      "2. BFS\n",
      "3. Quit\n",
      "Enter your choice: 3\n"
     ]
    }
   ],
   "source": [
    "#calling main method\n",
    "main ()"
   ]
  },
  {
   "cell_type": "code",
   "execution_count": null,
   "id": "93487a04",
   "metadata": {},
   "outputs": [],
   "source": []
  }
 ],
 "metadata": {
  "kernelspec": {
   "display_name": "Python 3 (ipykernel)",
   "language": "python",
   "name": "python3"
  },
  "language_info": {
   "codemirror_mode": {
    "name": "ipython",
    "version": 3
   },
   "file_extension": ".py",
   "mimetype": "text/x-python",
   "name": "python",
   "nbconvert_exporter": "python",
   "pygments_lexer": "ipython3",
   "version": "3.11.4"
  }
 },
 "nbformat": 4,
 "nbformat_minor": 5
}
